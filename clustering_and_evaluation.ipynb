{
 "cells": [
  {
   "cell_type": "markdown",
   "metadata": {},
   "source": [
    "# Data segmentation and segmentation assessment with Python\n",
    "\n",
    "After reducing the dimensionality of the dataset, it is now possible to actually segment it using machine learning algorithms. As, requested in Udacity class, three algorithms will be used and their resulting segmentation will be assessed using both **Rand index** and **Calinski-Harabasz index**.\n",
    "The three algorithms used are successively:\n",
    "* k-Means (scikit learn implementation will be used)\n",
    "* k-Medians (using pyclustering package)\n",
    "* neural gas, or actually, growing neural gas will be used from MDP, Modular Toolkit for data analysis"
   ]
  },
  {
   "cell_type": "code",
   "execution_count": 1,
   "metadata": {
    "collapsed": true
   },
   "outputs": [],
   "source": [
    "import pandas as pd\n",
    "import numpy as np\n",
    "import matplotlib.pyplot as plt\n",
    "\n",
    "%matplotlib inline"
   ]
  },
  {
   "cell_type": "code",
   "execution_count": 2,
   "metadata": {
    "collapsed": true
   },
   "outputs": [],
   "source": [
    "import os\n",
    "\n",
    "datafile = \"climate-data-pca.csv\"\n",
    "\n",
    "climate = pd.read_csv(os.path.join(\".\", datafile))"
   ]
  },
  {
   "cell_type": "code",
   "execution_count": 3,
   "metadata": {
    "collapsed": false
   },
   "outputs": [
    {
     "data": {
      "text/html": [
       "<div>\n",
       "<table border=\"1\" class=\"dataframe\">\n",
       "  <thead>\n",
       "    <tr style=\"text-align: right;\">\n",
       "      <th></th>\n",
       "      <th>StoreID</th>\n",
       "      <th>City</th>\n",
       "      <th>State</th>\n",
       "      <th>Date Last Winter Freeze</th>\n",
       "      <th>Date First Winter Freeze</th>\n",
       "      <th>Growing Season Length</th>\n",
       "      <th>Elevation</th>\n",
       "      <th>Longitude</th>\n",
       "      <th>Latitude</th>\n",
       "      <th>LastWinterFreezeDiff</th>\n",
       "      <th>...</th>\n",
       "      <th>Temp 2</th>\n",
       "      <th>Precip 1</th>\n",
       "      <th>Precip 2</th>\n",
       "      <th>Precip 3</th>\n",
       "      <th>Snow 1</th>\n",
       "      <th>Snow 2</th>\n",
       "      <th>Snow 3</th>\n",
       "      <th>Rain 1</th>\n",
       "      <th>Rain 2</th>\n",
       "      <th>Rain 3</th>\n",
       "    </tr>\n",
       "  </thead>\n",
       "  <tbody>\n",
       "    <tr>\n",
       "      <th>0</th>\n",
       "      <td>3772.0</td>\n",
       "      <td>Florida City</td>\n",
       "      <td>FL</td>\n",
       "      <td>2009-02-02</td>\n",
       "      <td>2010-01-14</td>\n",
       "      <td>361.0</td>\n",
       "      <td>6.29</td>\n",
       "      <td>-80.649351</td>\n",
       "      <td>25.360858</td>\n",
       "      <td>-80.0</td>\n",
       "      <td>...</td>\n",
       "      <td>1.833726</td>\n",
       "      <td>1.900455</td>\n",
       "      <td>-3.939185</td>\n",
       "      <td>0.874637</td>\n",
       "      <td>-15.149019</td>\n",
       "      <td>-0.579009</td>\n",
       "      <td>-0.776643</td>\n",
       "      <td>2.516979</td>\n",
       "      <td>-3.249076</td>\n",
       "      <td>1.318963</td>\n",
       "    </tr>\n",
       "    <tr>\n",
       "      <th>1</th>\n",
       "      <td>3785.0</td>\n",
       "      <td>Miami</td>\n",
       "      <td>FL</td>\n",
       "      <td>2009-01-18</td>\n",
       "      <td>2010-02-03</td>\n",
       "      <td>362.0</td>\n",
       "      <td>6.56</td>\n",
       "      <td>-80.311200</td>\n",
       "      <td>25.736641</td>\n",
       "      <td>-95.0</td>\n",
       "      <td>...</td>\n",
       "      <td>1.550907</td>\n",
       "      <td>2.322156</td>\n",
       "      <td>-5.423938</td>\n",
       "      <td>1.195367</td>\n",
       "      <td>-15.149019</td>\n",
       "      <td>-0.579009</td>\n",
       "      <td>-0.776643</td>\n",
       "      <td>2.888469</td>\n",
       "      <td>-4.597341</td>\n",
       "      <td>1.979157</td>\n",
       "    </tr>\n",
       "    <tr>\n",
       "      <th>2</th>\n",
       "      <td>3770.0</td>\n",
       "      <td>Miami Gardens</td>\n",
       "      <td>FL</td>\n",
       "      <td>2009-01-28</td>\n",
       "      <td>2010-01-13</td>\n",
       "      <td>365.0</td>\n",
       "      <td>6.79</td>\n",
       "      <td>-80.245486</td>\n",
       "      <td>25.949315</td>\n",
       "      <td>-85.0</td>\n",
       "      <td>...</td>\n",
       "      <td>1.465376</td>\n",
       "      <td>1.725209</td>\n",
       "      <td>-4.216764</td>\n",
       "      <td>1.258284</td>\n",
       "      <td>-15.149019</td>\n",
       "      <td>-0.579009</td>\n",
       "      <td>-0.776643</td>\n",
       "      <td>2.264950</td>\n",
       "      <td>-3.421322</td>\n",
       "      <td>1.891049</td>\n",
       "    </tr>\n",
       "    <tr>\n",
       "      <th>3</th>\n",
       "      <td>3762.0</td>\n",
       "      <td>Hallandale Beach</td>\n",
       "      <td>FL</td>\n",
       "      <td>2009-01-26</td>\n",
       "      <td>2010-01-13</td>\n",
       "      <td>365.0</td>\n",
       "      <td>4.59</td>\n",
       "      <td>-80.148327</td>\n",
       "      <td>25.985698</td>\n",
       "      <td>-87.0</td>\n",
       "      <td>...</td>\n",
       "      <td>1.749091</td>\n",
       "      <td>0.708201</td>\n",
       "      <td>-2.435387</td>\n",
       "      <td>1.428741</td>\n",
       "      <td>-15.149019</td>\n",
       "      <td>-0.579009</td>\n",
       "      <td>-0.776643</td>\n",
       "      <td>1.214714</td>\n",
       "      <td>-1.683193</td>\n",
       "      <td>1.829852</td>\n",
       "    </tr>\n",
       "    <tr>\n",
       "      <th>4</th>\n",
       "      <td>3725.0</td>\n",
       "      <td>Port Isabel</td>\n",
       "      <td>TX</td>\n",
       "      <td>2009-02-07</td>\n",
       "      <td>2009-12-28</td>\n",
       "      <td>363.0</td>\n",
       "      <td>8.50</td>\n",
       "      <td>-97.303707</td>\n",
       "      <td>26.025517</td>\n",
       "      <td>-75.0</td>\n",
       "      <td>...</td>\n",
       "      <td>0.725158</td>\n",
       "      <td>-2.123225</td>\n",
       "      <td>-1.263827</td>\n",
       "      <td>0.849837</td>\n",
       "      <td>-15.103095</td>\n",
       "      <td>-0.545498</td>\n",
       "      <td>-0.824981</td>\n",
       "      <td>-1.565505</td>\n",
       "      <td>-0.670323</td>\n",
       "      <td>1.057575</td>\n",
       "    </tr>\n",
       "  </tbody>\n",
       "</table>\n",
       "<p>5 rows × 22 columns</p>\n",
       "</div>"
      ],
      "text/plain": [
       "   StoreID              City State Date Last Winter Freeze  \\\n",
       "0   3772.0      Florida City    FL              2009-02-02   \n",
       "1   3785.0             Miami    FL              2009-01-18   \n",
       "2   3770.0     Miami Gardens    FL              2009-01-28   \n",
       "3   3762.0  Hallandale Beach    FL              2009-01-26   \n",
       "4   3725.0       Port Isabel    TX              2009-02-07   \n",
       "\n",
       "  Date First Winter Freeze  Growing Season Length  Elevation  Longitude  \\\n",
       "0               2010-01-14                  361.0       6.29 -80.649351   \n",
       "1               2010-02-03                  362.0       6.56 -80.311200   \n",
       "2               2010-01-13                  365.0       6.79 -80.245486   \n",
       "3               2010-01-13                  365.0       4.59 -80.148327   \n",
       "4               2009-12-28                  363.0       8.50 -97.303707   \n",
       "\n",
       "    Latitude  LastWinterFreezeDiff    ...       Temp 2  Precip 1  Precip 2  \\\n",
       "0  25.360858                 -80.0    ...     1.833726  1.900455 -3.939185   \n",
       "1  25.736641                 -95.0    ...     1.550907  2.322156 -5.423938   \n",
       "2  25.949315                 -85.0    ...     1.465376  1.725209 -4.216764   \n",
       "3  25.985698                 -87.0    ...     1.749091  0.708201 -2.435387   \n",
       "4  26.025517                 -75.0    ...     0.725158 -2.123225 -1.263827   \n",
       "\n",
       "   Precip 3     Snow 1    Snow 2    Snow 3    Rain 1    Rain 2    Rain 3  \n",
       "0  0.874637 -15.149019 -0.579009 -0.776643  2.516979 -3.249076  1.318963  \n",
       "1  1.195367 -15.149019 -0.579009 -0.776643  2.888469 -4.597341  1.979157  \n",
       "2  1.258284 -15.149019 -0.579009 -0.776643  2.264950 -3.421322  1.891049  \n",
       "3  1.428741 -15.149019 -0.579009 -0.776643  1.214714 -1.683193  1.829852  \n",
       "4  0.849837 -15.103095 -0.545498 -0.824981 -1.565505 -0.670323  1.057575  \n",
       "\n",
       "[5 rows x 22 columns]"
      ]
     },
     "execution_count": 3,
     "metadata": {},
     "output_type": "execute_result"
    }
   ],
   "source": [
    "climate.head(5)"
   ]
  },
  {
   "cell_type": "code",
   "execution_count": 4,
   "metadata": {
    "collapsed": false
   },
   "outputs": [
    {
     "name": "stdout",
     "output_type": "stream",
     "text": [
      "<class 'pandas.core.frame.DataFrame'>\n",
      "RangeIndex: 2127 entries, 0 to 2126\n",
      "Data columns (total 22 columns):\n",
      "StoreID                     2126 non-null float64\n",
      "City                        2126 non-null object\n",
      "State                       2126 non-null object\n",
      "Date Last Winter Freeze     2126 non-null object\n",
      "Date First Winter Freeze    2126 non-null object\n",
      "Growing Season Length       2126 non-null float64\n",
      "Elevation                   2126 non-null float64\n",
      "Longitude                   2126 non-null float64\n",
      "Latitude                    2126 non-null float64\n",
      "LastWinterFreezeDiff        2126 non-null float64\n",
      "FirstWinterFreezeDiff       2126 non-null float64\n",
      "Temp 1                      2126 non-null float64\n",
      "Temp 2                      2126 non-null float64\n",
      "Precip 1                    2126 non-null float64\n",
      "Precip 2                    2126 non-null float64\n",
      "Precip 3                    2126 non-null float64\n",
      "Snow 1                      2126 non-null float64\n",
      "Snow 2                      2126 non-null float64\n",
      "Snow 3                      2126 non-null float64\n",
      "Rain 1                      2126 non-null float64\n",
      "Rain 2                      2126 non-null float64\n",
      "Rain 3                      2126 non-null float64\n",
      "dtypes: float64(18), object(4)\n",
      "memory usage: 365.6+ KB\n"
     ]
    }
   ],
   "source": [
    "climate.info()"
   ]
  },
  {
   "cell_type": "markdown",
   "metadata": {},
   "source": [
    "PCA dimensionality reduced variables are seen as \"Temp X\", \"Precip X\"... This transformation allowed us to reduce the dimensionality of the dataset by 37 fields."
   ]
  },
  {
   "cell_type": "code",
   "execution_count": 15,
   "metadata": {
    "collapsed": true
   },
   "outputs": [],
   "source": [
    "# Need a little bit of preparation to use sklearn\n",
    "selected_columns = [\"StoreID\", \"City\", \"State\", \"Date Last Winter Freeze\", \"Date First Winter Freeze\",\n",
    "                    \"Longitude\", \"Latitude\"]\n",
    "\n",
    "X = climate.drop(selected_columns, axis=1)"
   ]
  },
  {
   "cell_type": "code",
   "execution_count": 17,
   "metadata": {
    "collapsed": false
   },
   "outputs": [],
   "source": [
    "X = X.dropna(axis=0)"
   ]
  },
  {
   "cell_type": "markdown",
   "metadata": {},
   "source": [
    "## k-Means clustering and evaluating segmentations"
   ]
  },
  {
   "cell_type": "code",
   "execution_count": 5,
   "metadata": {
    "collapsed": true
   },
   "outputs": [],
   "source": [
    "from sklearn.cluster import KMeans"
   ]
  },
  {
   "cell_type": "code",
   "execution_count": 18,
   "metadata": {
    "collapsed": false
   },
   "outputs": [
    {
     "data": {
      "text/plain": [
       "KMeans(algorithm='auto', copy_x=True, init='k-means++', max_iter=300,\n",
       "    n_clusters=6, n_init=5, n_jobs=1, precompute_distances='auto',\n",
       "    random_state=None, tol=0.0001, verbose=0)"
      ]
     },
     "execution_count": 18,
     "metadata": {},
     "output_type": "execute_result"
    }
   ],
   "source": [
    "km_clf = KMeans(n_clusters=6, n_init=5)\n",
    "km_clf.fit(X)"
   ]
  },
  {
   "cell_type": "code",
   "execution_count": 19,
   "metadata": {
    "collapsed": false
   },
   "outputs": [
    {
     "data": {
      "text/plain": [
       "KMeans(algorithm='auto', copy_x=True, init='k-means++', max_iter=300,\n",
       "    n_clusters=1, n_init=5, n_jobs=1, precompute_distances='auto',\n",
       "    random_state=None, tol=0.0001, verbose=0)"
      ]
     },
     "execution_count": 19,
     "metadata": {},
     "output_type": "execute_result"
    }
   ],
   "source": [
    "km_ref = KMeans(n_clusters=1, n_init=5)\n",
    "km_ref.fit(X)"
   ]
  },
  {
   "cell_type": "code",
   "execution_count": 21,
   "metadata": {
    "collapsed": false
   },
   "outputs": [],
   "source": [
    "from sklearn.metrics import adjusted_rand_score"
   ]
  },
  {
   "cell_type": "code",
   "execution_count": 27,
   "metadata": {
    "collapsed": false
   },
   "outputs": [
    {
     "name": "stdout",
     "output_type": "stream",
     "text": [
      "Rand Index (Relative to 1 cluster partition) = 1.0\n"
     ]
    }
   ],
   "source": [
    "rand_score = adjusted_rand_score(km_clf.labels_, km_clf.labels_)\n",
    "\n",
    "print(\"Rand Index (Relative to 1 cluster partition) = {0}\".format(rand_score))"
   ]
  },
  {
   "cell_type": "code",
   "execution_count": 25,
   "metadata": {
    "collapsed": false
   },
   "outputs": [
    {
     "data": {
      "text/plain": [
       "array([0, 0, 0, ..., 0, 0, 0], dtype=int32)"
      ]
     },
     "execution_count": 25,
     "metadata": {},
     "output_type": "execute_result"
    }
   ],
   "source": [
    "km_ref.labels_"
   ]
  },
  {
   "cell_type": "code",
   "execution_count": 26,
   "metadata": {
    "collapsed": false
   },
   "outputs": [
    {
     "data": {
      "text/plain": [
       "array([0, 0, 0, ..., 3, 3, 0], dtype=int32)"
      ]
     },
     "execution_count": 26,
     "metadata": {},
     "output_type": "execute_result"
    }
   ],
   "source": [
    "km_clf.labels_"
   ]
  },
  {
   "cell_type": "code",
   "execution_count": 42,
   "metadata": {
    "collapsed": false
   },
   "outputs": [],
   "source": [
    "km = KMeans(n_clusters=6)\n",
    "\n",
    "labels = list()\n",
    "for i in range(5):\n",
    "    labels.append(km.fit(X).labels_)"
   ]
  },
  {
   "cell_type": "code",
   "execution_count": 43,
   "metadata": {
    "collapsed": false
   },
   "outputs": [
    {
     "data": {
      "text/plain": [
       "[array([2, 2, 2, ..., 4, 4, 2], dtype=int32),\n",
       " array([3, 3, 3, ..., 2, 2, 3], dtype=int32),\n",
       " array([0, 0, 0, ..., 4, 4, 0], dtype=int32),\n",
       " array([2, 2, 2, ..., 5, 5, 2], dtype=int32),\n",
       " array([2, 2, 2, ..., 3, 3, 2], dtype=int32)]"
      ]
     },
     "execution_count": 43,
     "metadata": {},
     "output_type": "execute_result"
    }
   ],
   "source": [
    "labels"
   ]
  },
  {
   "cell_type": "code",
   "execution_count": 46,
   "metadata": {
    "collapsed": false
   },
   "outputs": [
    {
     "name": "stdout",
     "output_type": "stream",
     "text": [
      "0.998338818685\n",
      "1.0\n",
      "1.0\n",
      "1.0\n",
      "0.998338818685\n",
      "0.998338818685\n",
      "0.998338818685\n",
      "1.0\n",
      "1.0\n",
      "1.0\n"
     ]
    }
   ],
   "source": [
    "for idx, seg in enumerate(labels):\n",
    "    for seg2 in labels[idx+1:]:\n",
    "        print(adjusted_rand_score(seg, seg2))"
   ]
  },
  {
   "cell_type": "markdown",
   "metadata": {},
   "source": []
  },
  {
   "cell_type": "code",
   "execution_count": 49,
   "metadata": {
    "collapsed": true
   },
   "outputs": [],
   "source": [
    "def sample_labels(model, data, num_rep):\n",
    "    labels = list()\n",
    "    for idx in range(num_rep):\n",
    "        labels.append(model.fit(data).labels_)\n",
    "    \n",
    "    return labels\n"
   ]
  },
  {
   "cell_type": "code",
   "execution_count": 50,
   "metadata": {
    "collapsed": true
   },
   "outputs": [],
   "source": [
    "km = KMeans(n_clusters=6)\n",
    "\n",
    "labels = sample_labels(km, X, num_rep=10)"
   ]
  },
  {
   "cell_type": "code",
   "execution_count": 51,
   "metadata": {
    "collapsed": false
   },
   "outputs": [
    {
     "data": {
      "text/plain": [
       "[array([3, 3, 3, ..., 1, 1, 3], dtype=int32),\n",
       " array([4, 4, 4, ..., 2, 2, 4], dtype=int32),\n",
       " array([1, 1, 1, ..., 0, 0, 1], dtype=int32),\n",
       " array([3, 3, 3, ..., 1, 1, 3], dtype=int32),\n",
       " array([3, 3, 3, ..., 2, 2, 3], dtype=int32),\n",
       " array([0, 0, 0, ..., 3, 3, 0], dtype=int32),\n",
       " array([4, 4, 4, ..., 5, 5, 4], dtype=int32),\n",
       " array([0, 0, 0, ..., 2, 2, 0], dtype=int32),\n",
       " array([4, 4, 4, ..., 2, 2, 4], dtype=int32),\n",
       " array([0, 0, 0, ..., 2, 2, 0], dtype=int32)]"
      ]
     },
     "execution_count": 51,
     "metadata": {},
     "output_type": "execute_result"
    }
   ],
   "source": [
    "labels"
   ]
  },
  {
   "cell_type": "code",
   "execution_count": 52,
   "metadata": {
    "collapsed": true
   },
   "outputs": [],
   "source": [
    "def pairs_of_models_rand_indices(model, data, num_rep=10):\n",
    "    \n",
    "    labels = sample_labels(model, data, num_rep)\n",
    "    scores = list()\n",
    "    for idx, seg in enumerate(labels):\n",
    "        for seg2 in labels[idx+1:]:\n",
    "            scores.append(adjusted_rand_score(seg, seg2))\n",
    "    return np.array(scores)\n"
   ]
  },
  {
   "cell_type": "code",
   "execution_count": 53,
   "metadata": {
    "collapsed": true
   },
   "outputs": [],
   "source": [
    "rand_scores = pairs_of_models_rand_indices(km, X, num_rep=20)"
   ]
  },
  {
   "cell_type": "code",
   "execution_count": 54,
   "metadata": {
    "collapsed": false
   },
   "outputs": [
    {
     "data": {
      "text/plain": [
       "array([ 1.        ,  1.        ,  1.        ,  1.        ,  0.98460504,\n",
       "        1.        ,  1.        ,  0.98460504,  0.98460504,  1.        ,\n",
       "        1.        ,  0.98460504,  0.99171329,  1.        ,  0.99171329,\n",
       "        0.99833882,  1.        ,  0.98460504,  1.        ,  1.        ,\n",
       "        1.        ,  1.        ,  0.98460504,  1.        ,  1.        ,\n",
       "        0.98460504,  0.98460504,  1.        ,  1.        ,  0.98460504,\n",
       "        0.99171329,  1.        ,  0.99171329,  0.99833882,  1.        ,\n",
       "        0.98460504,  1.        ,  1.        ,  1.        ,  0.98460504,\n",
       "        1.        ,  1.        ,  0.98460504,  0.98460504,  1.        ,\n",
       "        1.        ,  0.98460504,  0.99171329,  1.        ,  0.99171329,\n",
       "        0.99833882,  1.        ,  0.98460504,  1.        ,  1.        ,\n",
       "        0.98460504,  1.        ,  1.        ,  0.98460504,  0.98460504,\n",
       "        1.        ,  1.        ,  0.98460504,  0.99171329,  1.        ,\n",
       "        0.99171329,  0.99833882,  1.        ,  0.98460504,  1.        ,\n",
       "        0.98460504,  1.        ,  1.        ,  0.98460504,  0.98460504,\n",
       "        1.        ,  1.        ,  0.98460504,  0.99171329,  1.        ,\n",
       "        0.99171329,  0.99833882,  1.        ,  0.98460504,  1.        ,\n",
       "        0.98460504,  0.98460504,  1.        ,  1.        ,  0.98460504,\n",
       "        0.98460504,  1.        ,  0.99288015,  0.98460504,  0.99288015,\n",
       "        0.98625572,  0.98460504,  1.        ,  0.98460504,  1.        ,\n",
       "        0.98460504,  0.98460504,  1.        ,  1.        ,  0.98460504,\n",
       "        0.99171329,  1.        ,  0.99171329,  0.99833882,  1.        ,\n",
       "        0.98460504,  1.        ,  0.98460504,  0.98460504,  1.        ,\n",
       "        1.        ,  0.98460504,  0.99171329,  1.        ,  0.99171329,\n",
       "        0.99833882,  1.        ,  0.98460504,  1.        ,  1.        ,\n",
       "        0.98460504,  0.98460504,  1.        ,  0.99288015,  0.98460504,\n",
       "        0.99288015,  0.98625572,  0.98460504,  1.        ,  0.98460504,\n",
       "        0.98460504,  0.98460504,  1.        ,  0.99288015,  0.98460504,\n",
       "        0.99288015,  0.98625572,  0.98460504,  1.        ,  0.98460504,\n",
       "        1.        ,  0.98460504,  0.99171329,  1.        ,  0.99171329,\n",
       "        0.99833882,  1.        ,  0.98460504,  1.        ,  0.98460504,\n",
       "        0.99171329,  1.        ,  0.99171329,  0.99833882,  1.        ,\n",
       "        0.98460504,  1.        ,  0.99288015,  0.98460504,  0.99288015,\n",
       "        0.98625572,  0.98460504,  1.        ,  0.98460504,  0.99171329,\n",
       "        1.        ,  0.99336629,  0.99171329,  0.99288015,  0.99171329,\n",
       "        0.99171329,  0.99833882,  1.        ,  0.98460504,  1.        ,\n",
       "        0.99336629,  0.99171329,  0.99288015,  0.99171329,  0.99833882,\n",
       "        0.98625572,  0.99833882,  0.98460504,  1.        ,  0.98460504])"
      ]
     },
     "execution_count": 54,
     "metadata": {},
     "output_type": "execute_result"
    }
   ],
   "source": [
    "rand_scores"
   ]
  },
  {
   "cell_type": "code",
   "execution_count": 56,
   "metadata": {
    "collapsed": false
   },
   "outputs": [
    {
     "data": {
      "text/plain": [
       "{'boxes': [<matplotlib.lines.Line2D at 0x7fac120e2dd0>],\n",
       " 'caps': [<matplotlib.lines.Line2D at 0x7fac120f3c90>,\n",
       "  <matplotlib.lines.Line2D at 0x7fac12107310>],\n",
       " 'fliers': [<matplotlib.lines.Line2D at 0x7fac12107f90>],\n",
       " 'means': [],\n",
       " 'medians': [<matplotlib.lines.Line2D at 0x7fac12107950>],\n",
       " 'whiskers': [<matplotlib.lines.Line2D at 0x7fac120e2f50>,\n",
       "  <matplotlib.lines.Line2D at 0x7fac120f3650>]}"
      ]
     },
     "execution_count": 56,
     "metadata": {},
     "output_type": "execute_result"
    },
    {
     "data": {
      "image/png": "[encoded data removed]",
      "text/plain": [
       "<matplotlib.figure.Figure at 0x7fac149e0910>"
      ]
     },
     "metadata": {},
     "output_type": "display_data"
    }
   ],
   "source": [
    "fig = plt.figure(figsize=(6,6))\n",
    "plt.boxplot(rand_scores)"
   ]
  },
  {
   "cell_type": "code",
   "execution_count": 57,
   "metadata": {
    "collapsed": false
   },
   "outputs": [
    {
     "data": {
      "text/plain": [
       "{'boxes': [<matplotlib.lines.Line2D at 0x7fac12041790>],\n",
       " 'caps': [<matplotlib.lines.Line2D at 0x7fac1204f650>,\n",
       "  <matplotlib.lines.Line2D at 0x7fac1204fc90>],\n",
       " 'fliers': [<matplotlib.lines.Line2D at 0x7fac11fd8950>],\n",
       " 'means': [],\n",
       " 'medians': [<matplotlib.lines.Line2D at 0x7fac11fd8310>],\n",
       " 'whiskers': [<matplotlib.lines.Line2D at 0x7fac149d3050>,\n",
       "  <matplotlib.lines.Line2D at 0x7fac12041fd0>]}"
      ]
     },
     "execution_count": 57,
     "metadata": {},
     "output_type": "execute_result"
    },
    {
     "data": {
      "image/png": "[encoded data removed]",
      "text/plain": [
       "<matplotlib.figure.Figure at 0x7fac14947650>"
      ]
     },
     "metadata": {},
     "output_type": "display_data"
    }
   ],
   "source": [
    "km = KMeans(n_clusters=10)\n",
    "\n",
    "rand_scores = pairs_of_models_rand_indices(km, X, num_rep=20)\n",
    "fig = plt.figure(figsize=(6,6))\n",
    "plt.boxplot(rand_scores)"
   ]
  },
  {
   "cell_type": "code",
   "execution_count": 62,
   "metadata": {
    "collapsed": true
   },
   "outputs": [],
   "source": [
    "from sklearn.metrics import calinski_harabaz_score\n",
    "\n",
    "def segmentation_evaluation(model, data, num_rep=10):\n",
    "    \n",
    "    labels = sample_labels(model, data, num_rep)\n",
    "    ch_scores = list()\n",
    "    rand_scores = list()\n",
    "    for idx, seg in enumerate(labels):\n",
    "        ch_scores.append(calinski_harabaz_score(data, seg))\n",
    "        for seg2 in labels[idx+1:]:\n",
    "            rand_scores.append(adjusted_rand_score(seg, seg2))\n",
    "    return np.array(rand_scores), np.array(ch_scores)"
   ]
  },
  {
   "cell_type": "code",
   "execution_count": 76,
   "metadata": {
    "collapsed": false
   },
   "outputs": [],
   "source": [
    "from sklearn.preprocessing import scale\n",
    "\n",
    "scale_X = scale(X)\n",
    "km = KMeans(n_clusters=10)\n",
    "\n",
    "rand_scores, ch_scores = segmentation_evaluation(km, scale_X, num_rep=20)"
   ]
  },
  {
   "cell_type": "code",
   "execution_count": 77,
   "metadata": {
    "collapsed": false
   },
   "outputs": [
    {
     "data": {
      "image/png": "[encoded data removed]",
      "text/plain": [
       "<matplotlib.figure.Figure at 0x7fac1116a150>"
      ]
     },
     "metadata": {},
     "output_type": "display_data"
    }
   ],
   "source": [
    "fig = plt.figure(figsize=(6,6))\n",
    "plt.boxplot(rand_scores);"
   ]
  },
  {
   "cell_type": "code",
   "execution_count": 78,
   "metadata": {
    "collapsed": false
   },
   "outputs": [
    {
     "data": {
      "image/png": "[encoded data removed]",
      "text/plain": [
       "<matplotlib.figure.Figure at 0x7fac110c4550>"
      ]
     },
     "metadata": {},
     "output_type": "display_data"
    }
   ],
   "source": [
    "fig = plt.figure(figsize=(6,6))\n",
    "plt.boxplot(ch_scores);"
   ]
  },
  {
   "cell_type": "code",
   "execution_count": 82,
   "metadata": {
    "collapsed": false
   },
   "outputs": [],
   "source": [
    "min_num_clusters, max_num_clusters = 6, 12\n",
    "all_rand_scores = list()\n",
    "all_ch_scores = list()\n",
    "\n",
    "for num_clusters in range(min_num_clusters, max_num_clusters + 1):\n",
    "    km = KMeans(n_clusters=num_clusters, n_init=10)\n",
    "    rand_scores, ch_scores = segmentation_evaluation(km, scale_X, num_rep=20)\n",
    "    all_rand_scores.append(rand_scores)\n",
    "    all_ch_scores.append(ch_scores)"
   ]
  },
  {
   "cell_type": "code",
   "execution_count": 83,
   "metadata": {
    "collapsed": false
   },
   "outputs": [
    {
     "data": {
      "image/png": "[encoded data removed]",
      "text/plain": [
       "<matplotlib.figure.Figure at 0x7fac1190cc90>"
      ]
     },
     "metadata": {},
     "output_type": "display_data"
    }
   ],
   "source": [
    "fig = plt.figure(figsize=(20,6))\n",
    "plt.boxplot(all_rand_scores);"
   ]
  },
  {
   "cell_type": "code",
   "execution_count": 84,
   "metadata": {
    "collapsed": false
   },
   "outputs": [
    {
     "data": {
      "image/png": "[encoded data removed]",
      "text/plain": [
       "<matplotlib.figure.Figure at 0x7fac117ceb90>"
      ]
     },
     "metadata": {},
     "output_type": "display_data"
    }
   ],
   "source": [
    "fig = plt.figure(figsize=(18,6))\n",
    "plt.boxplot(all_ch_scores);"
   ]
  },
  {
   "cell_type": "code",
   "execution_count": null,
   "metadata": {
    "collapsed": true
   },
   "outputs": [],
   "source": []
  },
  {
   "cell_type": "code",
   "execution_count": null,
   "metadata": {
    "collapsed": true
   },
   "outputs": [],
   "source": []
  },
  {
   "cell_type": "code",
   "execution_count": null,
   "metadata": {
    "collapsed": true
   },
   "outputs": [],
   "source": []
  },
  {
   "cell_type": "code",
   "execution_count": null,
   "metadata": {
    "collapsed": true
   },
   "outputs": [],
   "source": []
  },
  {
   "cell_type": "code",
   "execution_count": null,
   "metadata": {
    "collapsed": true
   },
   "outputs": [],
   "source": []
  },
  {
   "cell_type": "code",
   "execution_count": null,
   "metadata": {
    "collapsed": true
   },
   "outputs": [],
   "source": []
  },
  {
   "cell_type": "code",
   "execution_count": null,
   "metadata": {
    "collapsed": true
   },
   "outputs": [],
   "source": []
  },
  {
   "cell_type": "code",
   "execution_count": null,
   "metadata": {
    "collapsed": true
   },
   "outputs": [],
   "source": []
  },
  {
   "cell_type": "code",
   "execution_count": null,
   "metadata": {
    "collapsed": true
   },
   "outputs": [],
   "source": []
  },
  {
   "cell_type": "code",
   "execution_count": null,
   "metadata": {
    "collapsed": true
   },
   "outputs": [],
   "source": []
  },
  {
   "cell_type": "code",
   "execution_count": null,
   "metadata": {
    "collapsed": true
   },
   "outputs": [],
   "source": []
  },
  {
   "cell_type": "code",
   "execution_count": null,
   "metadata": {
    "collapsed": true
   },
   "outputs": [],
   "source": []
  },
  {
   "cell_type": "code",
   "execution_count": null,
   "metadata": {
    "collapsed": true
   },
   "outputs": [],
   "source": []
  },
  {
   "cell_type": "code",
   "execution_count": null,
   "metadata": {
    "collapsed": true
   },
   "outputs": [],
   "source": []
  },
  {
   "cell_type": "code",
   "execution_count": null,
   "metadata": {
    "collapsed": true
   },
   "outputs": [],
   "source": []
  }
 ],
 "metadata": {
  "kernelspec": {
   "display_name": "Python 2",
   "language": "python",
   "name": "python2"
  },
  "language_info": {
   "codemirror_mode": {
    "name": "ipython",
    "version": 2
   },
   "file_extension": ".py",
   "mimetype": "text/x-python",
   "name": "python",
   "nbconvert_exporter": "python",
   "pygments_lexer": "ipython2",
   "version": "2.7.10"
  },
  "toc": {
   "colors": {
    "hover_highlight": "#DAA520",
    "navigate_num": "#000000",
    "navigate_text": "#333333",
    "running_highlight": "#FF0000",
    "selected_highlight": "#FFD700",
    "sidebar_border": "#EEEEEE",
    "wrapper_background": "#FFFFFF"
   },
   "moveMenuLeft": true,
   "nav_menu": {
    "height": "63px",
    "width": "252px"
   },
   "navigate_menu": true,
   "number_sections": true,
   "sideBar": true,
   "threshold": 4,
   "toc_cell": false,
   "toc_section_display": "block",
   "toc_window_display": false,
   "widenNotebook": false
  }
 },
 "nbformat": 4,
 "nbformat_minor": 0
}
